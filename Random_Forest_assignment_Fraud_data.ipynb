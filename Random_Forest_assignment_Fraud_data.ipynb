{
 "cells": [
  {
   "cell_type": "code",
   "execution_count": 1,
   "id": "d447a6cd",
   "metadata": {},
   "outputs": [],
   "source": [
    "import warnings\n",
    "warnings.filterwarnings(\"ignore\")\n",
    "import pandas as pd\n",
    "import numpy as np\n",
    "import matplotlib.pyplot as plt\n",
    "import seaborn as sns\n",
    "from sklearn.ensemble import RandomForestClassifier\n",
    "from sklearn.model_selection import cross_val_score\n",
    "from sklearn.model_selection import cross_val_score\n",
    "from sklearn.model_selection import KFold\n",
    "from sklearn.preprocessing import LabelEncoder    "
   ]
  },
  {
   "cell_type": "code",
   "execution_count": 2,
   "id": "548fa537",
   "metadata": {},
   "outputs": [],
   "source": [
    "data=pd.read_csv(\"Fraud_check.csv\")"
   ]
  },
  {
   "cell_type": "code",
   "execution_count": 3,
   "id": "21722749",
   "metadata": {},
   "outputs": [
    {
     "data": {
      "text/html": [
       "<div>\n",
       "<style scoped>\n",
       "    .dataframe tbody tr th:only-of-type {\n",
       "        vertical-align: middle;\n",
       "    }\n",
       "\n",
       "    .dataframe tbody tr th {\n",
       "        vertical-align: top;\n",
       "    }\n",
       "\n",
       "    .dataframe thead th {\n",
       "        text-align: right;\n",
       "    }\n",
       "</style>\n",
       "<table border=\"1\" class=\"dataframe\">\n",
       "  <thead>\n",
       "    <tr style=\"text-align: right;\">\n",
       "      <th></th>\n",
       "      <th>Undergrad</th>\n",
       "      <th>Marital.Status</th>\n",
       "      <th>Taxable.Income</th>\n",
       "      <th>City.Population</th>\n",
       "      <th>Work.Experience</th>\n",
       "      <th>Urban</th>\n",
       "    </tr>\n",
       "  </thead>\n",
       "  <tbody>\n",
       "    <tr>\n",
       "      <th>0</th>\n",
       "      <td>NO</td>\n",
       "      <td>Single</td>\n",
       "      <td>68833</td>\n",
       "      <td>50047</td>\n",
       "      <td>10</td>\n",
       "      <td>YES</td>\n",
       "    </tr>\n",
       "    <tr>\n",
       "      <th>1</th>\n",
       "      <td>YES</td>\n",
       "      <td>Divorced</td>\n",
       "      <td>33700</td>\n",
       "      <td>134075</td>\n",
       "      <td>18</td>\n",
       "      <td>YES</td>\n",
       "    </tr>\n",
       "    <tr>\n",
       "      <th>2</th>\n",
       "      <td>NO</td>\n",
       "      <td>Married</td>\n",
       "      <td>36925</td>\n",
       "      <td>160205</td>\n",
       "      <td>30</td>\n",
       "      <td>YES</td>\n",
       "    </tr>\n",
       "    <tr>\n",
       "      <th>3</th>\n",
       "      <td>YES</td>\n",
       "      <td>Single</td>\n",
       "      <td>50190</td>\n",
       "      <td>193264</td>\n",
       "      <td>15</td>\n",
       "      <td>YES</td>\n",
       "    </tr>\n",
       "    <tr>\n",
       "      <th>4</th>\n",
       "      <td>NO</td>\n",
       "      <td>Married</td>\n",
       "      <td>81002</td>\n",
       "      <td>27533</td>\n",
       "      <td>28</td>\n",
       "      <td>NO</td>\n",
       "    </tr>\n",
       "  </tbody>\n",
       "</table>\n",
       "</div>"
      ],
      "text/plain": [
       "  Undergrad Marital.Status  Taxable.Income  City.Population  Work.Experience  \\\n",
       "0        NO         Single           68833            50047               10   \n",
       "1       YES       Divorced           33700           134075               18   \n",
       "2        NO        Married           36925           160205               30   \n",
       "3       YES         Single           50190           193264               15   \n",
       "4        NO        Married           81002            27533               28   \n",
       "\n",
       "  Urban  \n",
       "0   YES  \n",
       "1   YES  \n",
       "2   YES  \n",
       "3   YES  \n",
       "4    NO  "
      ]
     },
     "execution_count": 3,
     "metadata": {},
     "output_type": "execute_result"
    }
   ],
   "source": [
    "data.head()"
   ]
  },
  {
   "cell_type": "code",
   "execution_count": 17,
   "id": "a0780f67",
   "metadata": {},
   "outputs": [
    {
     "data": {
      "text/plain": [
       "(600, 6)"
      ]
     },
     "execution_count": 17,
     "metadata": {},
     "output_type": "execute_result"
    }
   ],
   "source": [
    "data.shape"
   ]
  },
  {
   "cell_type": "code",
   "execution_count": 4,
   "id": "e313baa2",
   "metadata": {},
   "outputs": [],
   "source": [
    "data[\"Taxable_Income\"]=1"
   ]
  },
  {
   "cell_type": "code",
   "execution_count": 5,
   "id": "594105c5",
   "metadata": {},
   "outputs": [],
   "source": [
    "l=[]\n",
    "for i in data[\"Taxable.Income\"]:\n",
    "    if i<=30000:\n",
    "        l.append(\"Risky\")\n",
    "    else:\n",
    "        l.append(\"Good\")\n",
    "        \n",
    "data[\"Taxable_Income\"]=l "
   ]
  },
  {
   "cell_type": "code",
   "execution_count": 6,
   "id": "ffbf478d",
   "metadata": {},
   "outputs": [
    {
     "data": {
      "text/html": [
       "<div>\n",
       "<style scoped>\n",
       "    .dataframe tbody tr th:only-of-type {\n",
       "        vertical-align: middle;\n",
       "    }\n",
       "\n",
       "    .dataframe tbody tr th {\n",
       "        vertical-align: top;\n",
       "    }\n",
       "\n",
       "    .dataframe thead th {\n",
       "        text-align: right;\n",
       "    }\n",
       "</style>\n",
       "<table border=\"1\" class=\"dataframe\">\n",
       "  <thead>\n",
       "    <tr style=\"text-align: right;\">\n",
       "      <th></th>\n",
       "      <th>Undergrad</th>\n",
       "      <th>Marital.Status</th>\n",
       "      <th>Taxable.Income</th>\n",
       "      <th>City.Population</th>\n",
       "      <th>Work.Experience</th>\n",
       "      <th>Urban</th>\n",
       "      <th>Taxable_Income</th>\n",
       "    </tr>\n",
       "  </thead>\n",
       "  <tbody>\n",
       "    <tr>\n",
       "      <th>142</th>\n",
       "      <td>NO</td>\n",
       "      <td>Single</td>\n",
       "      <td>59419</td>\n",
       "      <td>122654</td>\n",
       "      <td>26</td>\n",
       "      <td>YES</td>\n",
       "      <td>Good</td>\n",
       "    </tr>\n",
       "    <tr>\n",
       "      <th>477</th>\n",
       "      <td>YES</td>\n",
       "      <td>Divorced</td>\n",
       "      <td>57402</td>\n",
       "      <td>158849</td>\n",
       "      <td>29</td>\n",
       "      <td>NO</td>\n",
       "      <td>Good</td>\n",
       "    </tr>\n",
       "    <tr>\n",
       "      <th>247</th>\n",
       "      <td>YES</td>\n",
       "      <td>Divorced</td>\n",
       "      <td>11865</td>\n",
       "      <td>108245</td>\n",
       "      <td>1</td>\n",
       "      <td>NO</td>\n",
       "      <td>Risky</td>\n",
       "    </tr>\n",
       "    <tr>\n",
       "      <th>433</th>\n",
       "      <td>NO</td>\n",
       "      <td>Married</td>\n",
       "      <td>15532</td>\n",
       "      <td>129265</td>\n",
       "      <td>14</td>\n",
       "      <td>YES</td>\n",
       "      <td>Risky</td>\n",
       "    </tr>\n",
       "    <tr>\n",
       "      <th>240</th>\n",
       "      <td>NO</td>\n",
       "      <td>Single</td>\n",
       "      <td>32603</td>\n",
       "      <td>139146</td>\n",
       "      <td>30</td>\n",
       "      <td>YES</td>\n",
       "      <td>Good</td>\n",
       "    </tr>\n",
       "    <tr>\n",
       "      <th>460</th>\n",
       "      <td>NO</td>\n",
       "      <td>Divorced</td>\n",
       "      <td>58199</td>\n",
       "      <td>54701</td>\n",
       "      <td>10</td>\n",
       "      <td>YES</td>\n",
       "      <td>Good</td>\n",
       "    </tr>\n",
       "    <tr>\n",
       "      <th>134</th>\n",
       "      <td>YES</td>\n",
       "      <td>Married</td>\n",
       "      <td>35832</td>\n",
       "      <td>190365</td>\n",
       "      <td>28</td>\n",
       "      <td>NO</td>\n",
       "      <td>Good</td>\n",
       "    </tr>\n",
       "    <tr>\n",
       "      <th>523</th>\n",
       "      <td>NO</td>\n",
       "      <td>Divorced</td>\n",
       "      <td>50286</td>\n",
       "      <td>42198</td>\n",
       "      <td>12</td>\n",
       "      <td>NO</td>\n",
       "      <td>Good</td>\n",
       "    </tr>\n",
       "    <tr>\n",
       "      <th>98</th>\n",
       "      <td>YES</td>\n",
       "      <td>Married</td>\n",
       "      <td>22187</td>\n",
       "      <td>77053</td>\n",
       "      <td>18</td>\n",
       "      <td>YES</td>\n",
       "      <td>Risky</td>\n",
       "    </tr>\n",
       "    <tr>\n",
       "      <th>315</th>\n",
       "      <td>YES</td>\n",
       "      <td>Divorced</td>\n",
       "      <td>23075</td>\n",
       "      <td>176278</td>\n",
       "      <td>19</td>\n",
       "      <td>NO</td>\n",
       "      <td>Risky</td>\n",
       "    </tr>\n",
       "  </tbody>\n",
       "</table>\n",
       "</div>"
      ],
      "text/plain": [
       "    Undergrad Marital.Status  Taxable.Income  City.Population  \\\n",
       "142        NO         Single           59419           122654   \n",
       "477       YES       Divorced           57402           158849   \n",
       "247       YES       Divorced           11865           108245   \n",
       "433        NO        Married           15532           129265   \n",
       "240        NO         Single           32603           139146   \n",
       "460        NO       Divorced           58199            54701   \n",
       "134       YES        Married           35832           190365   \n",
       "523        NO       Divorced           50286            42198   \n",
       "98        YES        Married           22187            77053   \n",
       "315       YES       Divorced           23075           176278   \n",
       "\n",
       "     Work.Experience Urban Taxable_Income  \n",
       "142               26   YES           Good  \n",
       "477               29    NO           Good  \n",
       "247                1    NO          Risky  \n",
       "433               14   YES          Risky  \n",
       "240               30   YES           Good  \n",
       "460               10   YES           Good  \n",
       "134               28    NO           Good  \n",
       "523               12    NO           Good  \n",
       "98                18   YES          Risky  \n",
       "315               19    NO          Risky  "
      ]
     },
     "execution_count": 6,
     "metadata": {},
     "output_type": "execute_result"
    }
   ],
   "source": [
    "data.sample(10)"
   ]
  },
  {
   "cell_type": "code",
   "execution_count": 7,
   "id": "39a15ccb",
   "metadata": {},
   "outputs": [],
   "source": [
    "data.drop([\"Taxable.Income\"],axis=1,inplace=True)"
   ]
  },
  {
   "cell_type": "code",
   "execution_count": 9,
   "id": "9f188f44",
   "metadata": {},
   "outputs": [],
   "source": [
    "label_encoder=LabelEncoder()\n",
    "data[\"Undergrad\"]=label_encoder.fit_transform(data[\"Undergrad\"])\n",
    "data[\"Marital.Status\"]=label_encoder.fit_transform(data[\"Marital.Status\"])\n",
    "data[\"Urban\"]=label_encoder.fit_transform(data[\"Urban\"])\n",
    "data[\"Taxable_Income\"]=label_encoder.fit_transform(data[\"Taxable_Income\"])"
   ]
  },
  {
   "cell_type": "code",
   "execution_count": 10,
   "id": "e21c7efe",
   "metadata": {},
   "outputs": [
    {
     "data": {
      "text/html": [
       "<div>\n",
       "<style scoped>\n",
       "    .dataframe tbody tr th:only-of-type {\n",
       "        vertical-align: middle;\n",
       "    }\n",
       "\n",
       "    .dataframe tbody tr th {\n",
       "        vertical-align: top;\n",
       "    }\n",
       "\n",
       "    .dataframe thead th {\n",
       "        text-align: right;\n",
       "    }\n",
       "</style>\n",
       "<table border=\"1\" class=\"dataframe\">\n",
       "  <thead>\n",
       "    <tr style=\"text-align: right;\">\n",
       "      <th></th>\n",
       "      <th>Undergrad</th>\n",
       "      <th>Marital.Status</th>\n",
       "      <th>City.Population</th>\n",
       "      <th>Work.Experience</th>\n",
       "      <th>Urban</th>\n",
       "      <th>Taxable_Income</th>\n",
       "    </tr>\n",
       "  </thead>\n",
       "  <tbody>\n",
       "    <tr>\n",
       "      <th>0</th>\n",
       "      <td>0</td>\n",
       "      <td>2</td>\n",
       "      <td>50047</td>\n",
       "      <td>10</td>\n",
       "      <td>1</td>\n",
       "      <td>0</td>\n",
       "    </tr>\n",
       "    <tr>\n",
       "      <th>1</th>\n",
       "      <td>1</td>\n",
       "      <td>0</td>\n",
       "      <td>134075</td>\n",
       "      <td>18</td>\n",
       "      <td>1</td>\n",
       "      <td>0</td>\n",
       "    </tr>\n",
       "    <tr>\n",
       "      <th>2</th>\n",
       "      <td>0</td>\n",
       "      <td>1</td>\n",
       "      <td>160205</td>\n",
       "      <td>30</td>\n",
       "      <td>1</td>\n",
       "      <td>0</td>\n",
       "    </tr>\n",
       "    <tr>\n",
       "      <th>3</th>\n",
       "      <td>1</td>\n",
       "      <td>2</td>\n",
       "      <td>193264</td>\n",
       "      <td>15</td>\n",
       "      <td>1</td>\n",
       "      <td>0</td>\n",
       "    </tr>\n",
       "    <tr>\n",
       "      <th>4</th>\n",
       "      <td>0</td>\n",
       "      <td>1</td>\n",
       "      <td>27533</td>\n",
       "      <td>28</td>\n",
       "      <td>0</td>\n",
       "      <td>0</td>\n",
       "    </tr>\n",
       "  </tbody>\n",
       "</table>\n",
       "</div>"
      ],
      "text/plain": [
       "   Undergrad  Marital.Status  City.Population  Work.Experience  Urban  \\\n",
       "0          0               2            50047               10      1   \n",
       "1          1               0           134075               18      1   \n",
       "2          0               1           160205               30      1   \n",
       "3          1               2           193264               15      1   \n",
       "4          0               1            27533               28      0   \n",
       "\n",
       "   Taxable_Income  \n",
       "0               0  \n",
       "1               0  \n",
       "2               0  \n",
       "3               0  \n",
       "4               0  "
      ]
     },
     "execution_count": 10,
     "metadata": {},
     "output_type": "execute_result"
    }
   ],
   "source": [
    "data.head()"
   ]
  },
  {
   "cell_type": "code",
   "execution_count": 11,
   "id": "1ad9ebfe",
   "metadata": {},
   "outputs": [
    {
     "data": {
      "text/plain": [
       "<AxesSubplot:xlabel='Undergrad', ylabel='Taxable_Income'>"
      ]
     },
     "execution_count": 11,
     "metadata": {},
     "output_type": "execute_result"
    },
    {
     "data": {
      "image/png": "[encoded data removed]",
      "text/plain": [
       "<Figure size 432x288 with 1 Axes>"
      ]
     },
     "metadata": {
      "needs_background": "light"
     },
     "output_type": "display_data"
    }
   ],
   "source": [
    "sns.barplot(data[\"Undergrad\"],data[\"Taxable_Income\"])"
   ]
  },
  {
   "cell_type": "code",
   "execution_count": 12,
   "id": "4c1ef19d",
   "metadata": {},
   "outputs": [
    {
     "data": {
      "text/plain": [
       "<AxesSubplot:xlabel='City.Population', ylabel='Taxable_Income'>"
      ]
     },
     "execution_count": 12,
     "metadata": {},
     "output_type": "execute_result"
    },
    {
     "data": {
      "image/png": "[encoded data removed]",
      "text/plain": [
       "<Figure size 432x288 with 1 Axes>"
      ]
     },
     "metadata": {
      "needs_background": "light"
     },
     "output_type": "display_data"
    }
   ],
   "source": [
    "sns.barplot(data[\"City.Population\"],data[\"Taxable_Income\"])"
   ]
  },
  {
   "cell_type": "code",
   "execution_count": 13,
   "id": "69fbb977",
   "metadata": {},
   "outputs": [
    {
     "data": {
      "text/html": [
       "<div>\n",
       "<style scoped>\n",
       "    .dataframe tbody tr th:only-of-type {\n",
       "        vertical-align: middle;\n",
       "    }\n",
       "\n",
       "    .dataframe tbody tr th {\n",
       "        vertical-align: top;\n",
       "    }\n",
       "\n",
       "    .dataframe thead th {\n",
       "        text-align: right;\n",
       "    }\n",
       "</style>\n",
       "<table border=\"1\" class=\"dataframe\">\n",
       "  <thead>\n",
       "    <tr style=\"text-align: right;\">\n",
       "      <th></th>\n",
       "      <th>Undergrad</th>\n",
       "      <th>Marital.Status</th>\n",
       "      <th>City.Population</th>\n",
       "      <th>Work.Experience</th>\n",
       "      <th>Urban</th>\n",
       "      <th>Taxable_Income</th>\n",
       "    </tr>\n",
       "  </thead>\n",
       "  <tbody>\n",
       "    <tr>\n",
       "      <th>Undergrad</th>\n",
       "      <td>1.000000</td>\n",
       "      <td>0.042407</td>\n",
       "      <td>0.079579</td>\n",
       "      <td>-0.005362</td>\n",
       "      <td>-0.000267</td>\n",
       "      <td>0.012523</td>\n",
       "    </tr>\n",
       "    <tr>\n",
       "      <th>Marital.Status</th>\n",
       "      <td>0.042407</td>\n",
       "      <td>1.000000</td>\n",
       "      <td>-0.001564</td>\n",
       "      <td>-0.002213</td>\n",
       "      <td>0.064562</td>\n",
       "      <td>0.006081</td>\n",
       "    </tr>\n",
       "    <tr>\n",
       "      <th>City.Population</th>\n",
       "      <td>0.079579</td>\n",
       "      <td>-0.001564</td>\n",
       "      <td>1.000000</td>\n",
       "      <td>0.013135</td>\n",
       "      <td>-0.040098</td>\n",
       "      <td>0.012225</td>\n",
       "    </tr>\n",
       "    <tr>\n",
       "      <th>Work.Experience</th>\n",
       "      <td>-0.005362</td>\n",
       "      <td>-0.002213</td>\n",
       "      <td>0.013135</td>\n",
       "      <td>1.000000</td>\n",
       "      <td>-0.094559</td>\n",
       "      <td>-0.001972</td>\n",
       "    </tr>\n",
       "    <tr>\n",
       "      <th>Urban</th>\n",
       "      <td>-0.000267</td>\n",
       "      <td>0.064562</td>\n",
       "      <td>-0.040098</td>\n",
       "      <td>-0.094559</td>\n",
       "      <td>1.000000</td>\n",
       "      <td>0.004830</td>\n",
       "    </tr>\n",
       "    <tr>\n",
       "      <th>Taxable_Income</th>\n",
       "      <td>0.012523</td>\n",
       "      <td>0.006081</td>\n",
       "      <td>0.012225</td>\n",
       "      <td>-0.001972</td>\n",
       "      <td>0.004830</td>\n",
       "      <td>1.000000</td>\n",
       "    </tr>\n",
       "  </tbody>\n",
       "</table>\n",
       "</div>"
      ],
      "text/plain": [
       "                 Undergrad  Marital.Status  City.Population  Work.Experience  \\\n",
       "Undergrad         1.000000        0.042407         0.079579        -0.005362   \n",
       "Marital.Status    0.042407        1.000000        -0.001564        -0.002213   \n",
       "City.Population   0.079579       -0.001564         1.000000         0.013135   \n",
       "Work.Experience  -0.005362       -0.002213         0.013135         1.000000   \n",
       "Urban            -0.000267        0.064562        -0.040098        -0.094559   \n",
       "Taxable_Income    0.012523        0.006081         0.012225        -0.001972   \n",
       "\n",
       "                    Urban  Taxable_Income  \n",
       "Undergrad       -0.000267        0.012523  \n",
       "Marital.Status   0.064562        0.006081  \n",
       "City.Population -0.040098        0.012225  \n",
       "Work.Experience -0.094559       -0.001972  \n",
       "Urban            1.000000        0.004830  \n",
       "Taxable_Income   0.004830        1.000000  "
      ]
     },
     "execution_count": 13,
     "metadata": {},
     "output_type": "execute_result"
    }
   ],
   "source": [
    "data.corr()"
   ]
  },
  {
   "cell_type": "code",
   "execution_count": 14,
   "id": "e95679f9",
   "metadata": {},
   "outputs": [
    {
     "data": {
      "text/plain": [
       "<AxesSubplot:>"
      ]
     },
     "execution_count": 14,
     "metadata": {},
     "output_type": "execute_result"
    },
    {
     "data": {
      "image/png": "[encoded data removed]",
      "text/plain": [
       "<Figure size 432x288 with 2 Axes>"
      ]
     },
     "metadata": {
      "needs_background": "light"
     },
     "output_type": "display_data"
    }
   ],
   "source": [
    "sns.heatmap(data.corr())"
   ]
  },
  {
   "cell_type": "code",
   "execution_count": 15,
   "id": "e6c7f2db",
   "metadata": {},
   "outputs": [],
   "source": [
    "array=data.values"
   ]
  },
  {
   "cell_type": "code",
   "execution_count": 16,
   "id": "654c1335",
   "metadata": {},
   "outputs": [],
   "source": [
    "X=array[:,0:5]\n",
    "Y=array[:,-1]"
   ]
  },
  {
   "cell_type": "code",
   "execution_count": 31,
   "id": "c226ab06",
   "metadata": {},
   "outputs": [
    {
     "name": "stdout",
     "output_type": "stream",
     "text": [
      "0.7416666666666666\n"
     ]
    }
   ],
   "source": [
    "num_trees=100\n",
    "max_features=5\n",
    "kfold=KFold(n_splits=10,shuffle=True)\n",
    "model=RandomForestClassifier(n_estimators=num_trees,max_samples=0.8,max_features=max_features,random_state=0)\n",
    "results=cross_val_score(model,X,Y,cv=kfold)\n",
    "print(results.mean())"
   ]
  },
  {
   "cell_type": "code",
   "execution_count": 30,
   "id": "67ed8864",
   "metadata": {},
   "outputs": [],
   "source": [
    "from sklearn.model_selection import cross_val_score\n",
    "from sklearn.linear_model import LogisticRegression\n",
    "from sklearn.tree import DecisionTreeClassifier\n",
    "from sklearn.svm import SVC\n",
    "from sklearn.ensemble import VotingClassifier"
   ]
  },
  {
   "cell_type": "code",
   "execution_count": 21,
   "id": "b2e173a7",
   "metadata": {},
   "outputs": [],
   "source": [
    "estimators = []\n",
    "model1 = LogisticRegression(max_iter=500)\n",
    "estimators.append(('logistic', model1))\n",
    "model2 = DecisionTreeClassifier()\n",
    "estimators.append(('cart', model2))\n",
    "model3 = SVC()\n",
    "estimators.append(('svm', model3))"
   ]
  },
  {
   "cell_type": "code",
   "execution_count": 22,
   "id": "f4f77b2b",
   "metadata": {},
   "outputs": [
    {
     "name": "stdout",
     "output_type": "stream",
     "text": [
      "0.7933333333333332\n"
     ]
    }
   ],
   "source": [
    "ensemble = VotingClassifier(estimators)\n",
    "results = cross_val_score(ensemble, X, Y, cv=kfold)\n",
    "print(results.mean())"
   ]
  },
  {
   "cell_type": "code",
   "execution_count": 23,
   "id": "49e0ef4a",
   "metadata": {},
   "outputs": [],
   "source": [
    "import matplotlib.pyplot as plt\n",
    "%matplotlib inline\n",
    "num_trees=range(1,50)\n",
    "k_scores=[]"
   ]
  },
  {
   "cell_type": "code",
   "execution_count": 24,
   "id": "6b29f27e",
   "metadata": {},
   "outputs": [],
   "source": [
    "for k in num_trees:\n",
    "    rf=RandomForestClassifier(n_estimators=k)\n",
    "    scores=cross_val_score(rf,X,Y,cv=10)\n",
    "    k_scores.append(scores.mean())"
   ]
  },
  {
   "cell_type": "code",
   "execution_count": 27,
   "id": "42502fa9",
   "metadata": {},
   "outputs": [
    {
     "data": {
      "text/plain": [
       "([<matplotlib.axis.XTick at 0x10b230b9fa0>,\n",
       "  <matplotlib.axis.XTick at 0x10b230b9f70>,\n",
       "  <matplotlib.axis.XTick at 0x10b230b9640>,\n",
       "  <matplotlib.axis.XTick at 0x10b2353d190>,\n",
       "  <matplotlib.axis.XTick at 0x10b2353d8e0>,\n",
       "  <matplotlib.axis.XTick at 0x10b23540130>,\n",
       "  <matplotlib.axis.XTick at 0x10b235407c0>,\n",
       "  <matplotlib.axis.XTick at 0x10b2353d790>,\n",
       "  <matplotlib.axis.XTick at 0x10b23540370>,\n",
       "  <matplotlib.axis.XTick at 0x10b235492b0>,\n",
       "  <matplotlib.axis.XTick at 0x10b23549a00>,\n",
       "  <matplotlib.axis.XTick at 0x10b2354f190>,\n",
       "  <matplotlib.axis.XTick at 0x10b2354f8e0>,\n",
       "  <matplotlib.axis.XTick at 0x10b2354fbb0>,\n",
       "  <matplotlib.axis.XTick at 0x10b23549a30>,\n",
       "  <matplotlib.axis.XTick at 0x10b2353d3a0>,\n",
       "  <matplotlib.axis.XTick at 0x10b23553610>,\n",
       "  <matplotlib.axis.XTick at 0x10b23553d60>,\n",
       "  <matplotlib.axis.XTick at 0x10b2355e4f0>,\n",
       "  <matplotlib.axis.XTick at 0x10b2355ec40>,\n",
       "  <matplotlib.axis.XTick at 0x10b2355e820>,\n",
       "  <matplotlib.axis.XTick at 0x10b235535e0>,\n",
       "  <matplotlib.axis.XTick at 0x10b23563250>,\n",
       "  <matplotlib.axis.XTick at 0x10b235638e0>,\n",
       "  <matplotlib.axis.XTick at 0x10b2356b130>,\n",
       "  <matplotlib.axis.XTick at 0x10b2356b7c0>,\n",
       "  <matplotlib.axis.XTick at 0x10b2356bf10>,\n",
       "  <matplotlib.axis.XTick at 0x10b2356b820>,\n",
       "  <matplotlib.axis.XTick at 0x10b235634c0>,\n",
       "  <matplotlib.axis.XTick at 0x10b2356f400>,\n",
       "  <matplotlib.axis.XTick at 0x10b2356fa90>,\n",
       "  <matplotlib.axis.XTick at 0x10b23579220>,\n",
       "  <matplotlib.axis.XTick at 0x10b23579970>,\n",
       "  <matplotlib.axis.XTick at 0x10b2357f100>,\n",
       "  <matplotlib.axis.XTick at 0x10b23579430>,\n",
       "  <matplotlib.axis.XTick at 0x10b2356f760>,\n",
       "  <matplotlib.axis.XTick at 0x10b235534c0>,\n",
       "  <matplotlib.axis.XTick at 0x10b2357f0d0>,\n",
       "  <matplotlib.axis.XTick at 0x10b2357fb20>,\n",
       "  <matplotlib.axis.XTick at 0x10b235862b0>,\n",
       "  <matplotlib.axis.XTick at 0x10b20bb4b80>,\n",
       "  <matplotlib.axis.XTick at 0x10b20ba0b20>,\n",
       "  <matplotlib.axis.XTick at 0x10b20b990a0>,\n",
       "  <matplotlib.axis.XTick at 0x10b20b85a60>,\n",
       "  <matplotlib.axis.XTick at 0x10b20b758e0>,\n",
       "  <matplotlib.axis.XTick at 0x10b20b71820>,\n",
       "  <matplotlib.axis.XTick at 0x10b20b958e0>,\n",
       "  <matplotlib.axis.XTick at 0x10b20b62b20>,\n",
       "  <matplotlib.axis.XTick at 0x10b20b5a0a0>],\n",
       " [Text(0, 0, ''),\n",
       "  Text(0, 0, ''),\n",
       "  Text(0, 0, ''),\n",
       "  Text(0, 0, ''),\n",
       "  Text(0, 0, ''),\n",
       "  Text(0, 0, ''),\n",
       "  Text(0, 0, ''),\n",
       "  Text(0, 0, ''),\n",
       "  Text(0, 0, ''),\n",
       "  Text(0, 0, ''),\n",
       "  Text(0, 0, ''),\n",
       "  Text(0, 0, ''),\n",
       "  Text(0, 0, ''),\n",
       "  Text(0, 0, ''),\n",
       "  Text(0, 0, ''),\n",
       "  Text(0, 0, ''),\n",
       "  Text(0, 0, ''),\n",
       "  Text(0, 0, ''),\n",
       "  Text(0, 0, ''),\n",
       "  Text(0, 0, ''),\n",
       "  Text(0, 0, ''),\n",
       "  Text(0, 0, ''),\n",
       "  Text(0, 0, ''),\n",
       "  Text(0, 0, ''),\n",
       "  Text(0, 0, ''),\n",
       "  Text(0, 0, ''),\n",
       "  Text(0, 0, ''),\n",
       "  Text(0, 0, ''),\n",
       "  Text(0, 0, ''),\n",
       "  Text(0, 0, ''),\n",
       "  Text(0, 0, ''),\n",
       "  Text(0, 0, ''),\n",
       "  Text(0, 0, ''),\n",
       "  Text(0, 0, ''),\n",
       "  Text(0, 0, ''),\n",
       "  Text(0, 0, ''),\n",
       "  Text(0, 0, ''),\n",
       "  Text(0, 0, ''),\n",
       "  Text(0, 0, ''),\n",
       "  Text(0, 0, ''),\n",
       "  Text(0, 0, ''),\n",
       "  Text(0, 0, ''),\n",
       "  Text(0, 0, ''),\n",
       "  Text(0, 0, ''),\n",
       "  Text(0, 0, ''),\n",
       "  Text(0, 0, ''),\n",
       "  Text(0, 0, ''),\n",
       "  Text(0, 0, ''),\n",
       "  Text(0, 0, '')])"
      ]
     },
     "execution_count": 27,
     "metadata": {},
     "output_type": "execute_result"
    },
    {
     "data": {
      "image/png": "[encoded data removed]",
      "text/plain": [
       "<Figure size 2160x720 with 1 Axes>"
      ]
     },
     "metadata": {
      "needs_background": "light"
     },
     "output_type": "display_data"
    }
   ],
   "source": [
    "plt.figure(figsize=(30,10))\n",
    "plt.bar(num_trees,k_scores)\n",
    "plt.plot(num_trees,k_scores,color=\"red\")\n",
    "\n",
    "plt.xlabel('value of K for KNN')\n",
    "plt.ylabel('Cross-validation Accuracy')\n",
    "plt.xticks(num_trees)"
   ]
  },
  {
   "cell_type": "code",
   "execution_count": 28,
   "id": "f461d832",
   "metadata": {},
   "outputs": [
    {
     "data": {
      "text/plain": [
       "[0.62,\n",
       " 0.74,\n",
       " 0.6799999999999999,\n",
       " 0.7300000000000001,\n",
       " 0.7033333333333333,\n",
       " 0.7416666666666667,\n",
       " 0.7266666666666668,\n",
       " 0.7283333333333333,\n",
       " 0.7066666666666668,\n",
       " 0.7233333333333334,\n",
       " 0.7133333333333333,\n",
       " 0.7466666666666668,\n",
       " 0.7116666666666667,\n",
       " 0.7483333333333333,\n",
       " 0.725,\n",
       " 0.75,\n",
       " 0.7350000000000001,\n",
       " 0.7316666666666667,\n",
       " 0.7433333333333334,\n",
       " 0.7300000000000001,\n",
       " 0.7216666666666667,\n",
       " 0.7416666666666667,\n",
       " 0.7283333333333333,\n",
       " 0.7383333333333334,\n",
       " 0.7266666666666668,\n",
       " 0.7333333333333333,\n",
       " 0.7466666666666667,\n",
       " 0.7616666666666666,\n",
       " 0.7266666666666667,\n",
       " 0.7416666666666667,\n",
       " 0.7233333333333334,\n",
       " 0.7350000000000001,\n",
       " 0.7366666666666666,\n",
       " 0.7483333333333333,\n",
       " 0.7366666666666666,\n",
       " 0.74,\n",
       " 0.7333333333333334,\n",
       " 0.7533333333333333,\n",
       " 0.74,\n",
       " 0.7433333333333334,\n",
       " 0.745,\n",
       " 0.74,\n",
       " 0.7416666666666667,\n",
       " 0.7416666666666667,\n",
       " 0.7316666666666667,\n",
       " 0.7366666666666666,\n",
       " 0.7483333333333333,\n",
       " 0.7383333333333334,\n",
       " 0.74]"
      ]
     },
     "execution_count": 28,
     "metadata": {},
     "output_type": "execute_result"
    }
   ],
   "source": [
    "k_scores"
   ]
  },
  {
   "cell_type": "code",
   "execution_count": null,
   "id": "eb2f73a8",
   "metadata": {},
   "outputs": [],
   "source": []
  }
 ],
 "metadata": {
  "kernelspec": {
   "display_name": "Python 3 (ipykernel)",
   "language": "python",
   "name": "python3"
  },
  "language_info": {
   "codemirror_mode": {
    "name": "ipython",
    "version": 3
   },
   "file_extension": ".py",
   "mimetype": "text/x-python",
   "name": "python",
   "nbconvert_exporter": "python",
   "pygments_lexer": "ipython3",
   "version": "3.9.7"
  }
 },
 "nbformat": 4,
 "nbformat_minor": 5
}
